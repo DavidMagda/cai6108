{
 "cells": [
  {
   "cell_type": "code",
   "execution_count": 1,
   "id": "29dbe63d-3fc4-4b32-99a5-af5bd1711979",
   "metadata": {
    "tags": []
   },
   "outputs": [],
   "source": [
    "import numpy as np\n",
    "np.random.seed(42)\n",
    "import os \n",
    "from PIL import Image"
   ]
  },
  {
   "cell_type": "code",
   "execution_count": 2,
   "id": "08872428-f321-41c3-af9f-4a138466bb46",
   "metadata": {
    "tags": []
   },
   "outputs": [],
   "source": [
    "data_dir ='data'\n",
    "processed_data_dir = 'processed_data'\n",
    "class_dirs = os.listdir(data_dir)\n",
    "\n",
    "os.mkdir('processed_data')\n",
    "os.mkdir('processed_data/train')\n",
    "os.mkdir('processed_data/test')\n",
    "os.mkdir('processed_data/val')"
   ]
  },
  {
   "cell_type": "code",
   "execution_count": 3,
   "id": "3f758a5c-66b4-4233-b451-5293be8a60e6",
   "metadata": {},
   "outputs": [
    {
     "name": "stdout",
     "output_type": "stream",
     "text": [
      "Working on directory: M. 3001 samples.\n",
      "Working on directory: E. 3001 samples.\n",
      "Working on directory: U. 3001 samples.\n",
      "Working on directory: X. 3001 samples.\n",
      "Working on directory: N. 3001 samples.\n",
      "Working on directory: R. 3001 samples.\n",
      "Working on directory: L. 3001 samples.\n",
      "Working on directory: D. 3001 samples.\n",
      "Working on directory: A. 3001 samples.\n",
      "Working on directory: B. 3001 samples.\n",
      "Working on directory: S. 3001 samples.\n",
      "Working on directory: F. 3001 samples.\n",
      "Working on directory: I. 3001 samples.\n",
      "Working on directory: W. 3001 samples.\n",
      "Working on directory: nothing. 3001 samples.\n",
      "Working on directory: O. 3001 samples.\n",
      "Working on directory: K. 3001 samples.\n",
      "Working on directory: C. 3001 samples.\n",
      "Working on directory: space. 3001 samples.\n",
      "Working on directory: del. 3000 samples.\n",
      "Working on directory: T. 3001 samples.\n",
      "Working on directory: Z. 3001 samples.\n",
      "Working on directory: H. 3001 samples.\n",
      "Working on directory: Y. 3001 samples.\n",
      "Working on directory: V. 3001 samples.\n",
      "Working on directory: P. 3001 samples.\n",
      "Working on directory: G. 3001 samples.\n",
      "Working on directory: Q. 3001 samples.\n",
      "Working on directory: J. 3001 samples.\n",
      "-------------------------------------------------------\n",
      "----------------------DONE-----------------------------\n",
      "-------------------------------------------------------\n"
     ]
    }
   ],
   "source": [
    "for label, directory in enumerate(class_dirs):\n",
    "    print(f'Working on directory: {directory}. {len(os.listdir(os.path.join(data_dir, directory)))} samples.')\n",
    "    os.mkdir(os.path.join('processed_data/train', directory))\n",
    "    os.mkdir(os.path.join('processed_data/test', directory))\n",
    "    os.mkdir(os.path.join('processed_data/val', directory))\n",
    "    \n",
    "    \n",
    "    samples = os.listdir(os.path.join(data_dir, directory))\n",
    "    np.random.shuffle(samples)\n",
    "    \n",
    "    train_samples = samples[:int(len(samples)*.6)]\n",
    "    val_samples = samples[int(len(samples)*.6):int(len(samples)*.8)]\n",
    "    test_samples = samples[int(len(samples)*.8):]\n",
    "    \n",
    "    for sample in train_samples:\n",
    "        os.rename(os.path.join(data_dir, directory, sample), os.path.join(processed_data_dir, 'train', directory, sample))\n",
    "        \n",
    "    for sample in val_samples:\n",
    "        os.rename(os.path.join(data_dir, directory, sample), os.path.join(processed_data_dir, 'val', directory, sample))\n",
    "        \n",
    "    for sample in test_samples:\n",
    "        os.rename(os.path.join(data_dir, directory, sample), os.path.join(processed_data_dir, 'test', directory, sample))\n",
    "\n",
    "print('-------------------------------------------------------')\n",
    "print('----------------------DONE-----------------------------')\n",
    "print('-------------------------------------------------------')\n"
   ]
  }
 ],
 "metadata": {
  "kernelspec": {
   "display_name": "Tensorflow-2.4.1",
   "language": "python",
   "name": "tensorflow-2.4.1"
  },
  "language_info": {
   "codemirror_mode": {
    "name": "ipython",
    "version": 3
   },
   "file_extension": ".py",
   "mimetype": "text/x-python",
   "name": "python",
   "nbconvert_exporter": "python",
   "pygments_lexer": "ipython3",
   "version": "3.8.6"
  }
 },
 "nbformat": 4,
 "nbformat_minor": 5
}
