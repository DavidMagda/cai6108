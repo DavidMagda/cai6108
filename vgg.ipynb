{
 "cells": [
  {
   "cell_type": "code",
   "execution_count": 1,
   "metadata": {
    "tags": []
   },
   "outputs": [
    {
     "name": "stdout",
     "output_type": "stream",
     "text": [
      "Python version:  3.9.12 | packaged by conda-forge | (main, Mar 24 2022, 23:25:59) \n",
      "[GCC 10.3.0]\n",
      "Numpy version:  1.22.3\n",
      "Tensorflow version:  2.7.0\n"
     ]
    }
   ],
   "source": [
    "import sys\n",
    "import numpy as np\n",
    "import matplotlib.pyplot as plt\n",
    "%matplotlib inline\n",
    "plt.style.use('bmh')\n",
    "\n",
    "from sklearn.model_selection import train_test_split\n",
    "import tensorflow as tf\n",
    "from tensorflow.keras import Input\n",
    "from tensorflow.keras.preprocessing.image import ImageDataGenerator\n",
    "from tensorflow.keras.applications.vgg19 import VGG19\n",
    "from tensorflow.keras.models import Model\n",
    "from tensorflow.keras.layers import Dense, Flatten, Dropout\n",
    "from tensorflow.keras.optimizers import Nadam\n",
    "from tensorflow.keras.regularizers import l2\n",
    "from tensorflow.keras.callbacks import EarlyStopping\n",
    "\n",
    "print(\"Python version: \", sys.version)\n",
    "print(\"Numpy version: \", np.__version__)\n",
    "print(\"Tensorflow version: \", tf.__version__)"
   ]
  },
  {
   "cell_type": "code",
   "execution_count": 2,
   "metadata": {
    "tags": []
   },
   "outputs": [],
   "source": [
    "# Loading data\n",
    "def load_asl(verbose=False):\n",
    "    # Data directories\n",
    "    train_dir = 'processed_data/train'\n",
    "    val_dir = 'processed_data/val'\n",
    "    test_dir = 'processed_data/test'\n",
    "\n",
    "    img_height = 200\n",
    "    img_width = 200\n",
    "    batch_size = 64\n",
    "\n",
    "    train_datagenerator = ImageDataGenerator(rescale = 1./255)\n",
    "    val_datagenerator = ImageDataGenerator(rescale = 1./255)\n",
    "    test_datagenerator = ImageDataGenerator(rescale = 1./255)\n",
    "\n",
    "    train_generator = train_datagenerator.flow_from_directory(\n",
    "        train_dir,\n",
    "        target_size = (img_height, img_width),\n",
    "        batch_size = batch_size,\n",
    "        class_mode = 'categorical',\n",
    "    )\n",
    "\n",
    "    val_generator = val_datagenerator.flow_from_directory(\n",
    "        val_dir,\n",
    "        target_size = (img_height, img_width),\n",
    "        class_mode = 'categorical',\n",
    "        batch_size = batch_size,\n",
    "    )\n",
    "\n",
    "    test_generator = test_datagenerator.flow_from_directory(\n",
    "        test_dir,\n",
    "        target_size = (img_height, img_width),\n",
    "        class_mode = 'categorical',\n",
    "        shuffle = False\n",
    "    )\n",
    "\n",
    "    return train_generator, val_generator, test_generator"
   ]
  },
  {
   "cell_type": "code",
   "execution_count": 3,
   "metadata": {
    "tags": []
   },
   "outputs": [
    {
     "name": "stdout",
     "output_type": "stream",
     "text": [
      "Found 52200 images belonging to 29 classes.\n",
      "Found 17400 images belonging to 29 classes.\n",
      "Found 17428 images belonging to 29 classes.\n"
     ]
    }
   ],
   "source": [
    "train_generator, val_generator, test_generator = load_asl()"
   ]
  },
  {
   "cell_type": "code",
   "execution_count": 4,
   "metadata": {
    "tags": []
   },
   "outputs": [
    {
     "name": "stderr",
     "output_type": "stream",
     "text": [
      "2024-04-23 15:28:44.767631: I tensorflow/core/platform/cpu_feature_guard.cc:151] This TensorFlow binary is optimized with oneAPI Deep Neural Network Library (oneDNN) to use the following CPU instructions in performance-critical operations:  SSE4.1 SSE4.2 AVX AVX2 FMA\n",
      "To enable them in other operations, rebuild TensorFlow with the appropriate compiler flags.\n",
      "2024-04-23 15:28:45.607864: I tensorflow/core/common_runtime/gpu/gpu_device.cc:1525] Created device /job:localhost/replica:0/task:0/device:GPU:0 with 78911 MB memory:  -> device: 0, name: NVIDIA A100-SXM4-80GB, pci bus id: 0000:0f:00.0, compute capability: 8.0\n"
     ]
    }
   ],
   "source": [
    "# Import and freeze VGG model \n",
    "base_model = VGG19(weights='imagenet', include_top=False, input_shape=(224, 224, 3), pooling='max')\n",
    "base_model.trainable = False\n",
    "\n",
    "# Add custom top layers\n",
    "inputs = Input(shape=(224,224,3))\n",
    "feature_maps = base_model(inputs, training=False)\n",
    "\n",
    "dense_layer_1 = Dense(512, activation='leaky_relu', kernel_regularizer=l2(0.0001), kernel_initializer='he_normal')(feature_maps)\n",
    "dropout_1 = Dropout(0.2)(dense_layer_1)\n",
    "dense_layer_2 = Dense(256, activation='leaky_relu', kernel_regularizer=l2(0.0001), kernel_initializer='he_normal')(dropout_1)\n",
    "dropout_2 = Dropout(0.2)(dense_layer_2)\n",
    "dense_layer_3 = Dense(128, activation='leaky_relu', kernel_regularizer=l2(0.0001), kernel_initializer='he_normal')(dropout_2)\n",
    "dropout_3 = Dropout(0.2)(dense_layer_3)\n",
    "predictions = Dense(29, activation='softmax',kernel_regularizer=l2(0.0001))(dropout_3)\n",
    "\n",
    "model = Model(inputs=inputs, outputs=predictions)"
   ]
  },
  {
   "cell_type": "code",
   "execution_count": 5,
   "metadata": {
    "tags": []
   },
   "outputs": [
    {
     "name": "stdout",
     "output_type": "stream",
     "text": [
      "Epoch 1/50\n"
     ]
    },
    {
     "name": "stderr",
     "output_type": "stream",
     "text": [
      "2024-04-23 15:28:48.387629: I tensorflow/stream_executor/cuda/cuda_dnn.cc:366] Loaded cuDNN version 8201\n"
     ]
    },
    {
     "name": "stdout",
     "output_type": "stream",
     "text": [
      "  3/816 [..............................] - ETA: 49s - loss: 4.2297 - accuracy: 0.0469  "
     ]
    },
    {
     "name": "stderr",
     "output_type": "stream",
     "text": [
      "2024-04-23 15:28:51.280404: I tensorflow/stream_executor/cuda/cuda_blas.cc:1774] TensorFloat-32 will be used for the matrix multiplication. This will only be logged once.\n"
     ]
    },
    {
     "name": "stdout",
     "output_type": "stream",
     "text": [
      "816/816 [==============================] - 121s 143ms/step - loss: 1.0806 - accuracy: 0.7306 - val_loss: 0.4245 - val_accuracy: 0.9318\n",
      "Epoch 2/50\n",
      "816/816 [==============================] - 111s 137ms/step - loss: 0.4844 - accuracy: 0.9061 - val_loss: 0.3801 - val_accuracy: 0.9404\n",
      "Epoch 3/50\n",
      "816/816 [==============================] - 116s 142ms/step - loss: 0.4264 - accuracy: 0.9300 - val_loss: 0.2893 - val_accuracy: 0.9729\n",
      "Epoch 4/50\n",
      "816/816 [==============================] - 112s 138ms/step - loss: 0.3594 - accuracy: 0.9462 - val_loss: 0.3123 - val_accuracy: 0.9621\n",
      "Epoch 5/50\n",
      "816/816 [==============================] - 109s 133ms/step - loss: 0.3399 - accuracy: 0.9520 - val_loss: 0.2859 - val_accuracy: 0.9689\n",
      "Epoch 6/50\n",
      "816/816 [==============================] - 113s 139ms/step - loss: 0.3260 - accuracy: 0.9552 - val_loss: 0.2859 - val_accuracy: 0.9663\n",
      "Epoch 7/50\n",
      "816/816 [==============================] - 109s 134ms/step - loss: 0.3049 - accuracy: 0.9609 - val_loss: 0.2494 - val_accuracy: 0.9801\n",
      "Epoch 8/50\n",
      "816/816 [==============================] - 119s 146ms/step - loss: 0.2980 - accuracy: 0.9625 - val_loss: 0.2284 - val_accuracy: 0.9865\n",
      "Epoch 9/50\n",
      "816/816 [==============================] - 115s 140ms/step - loss: 0.2839 - accuracy: 0.9651 - val_loss: 0.2313 - val_accuracy: 0.9843\n",
      "Epoch 10/50\n",
      "816/816 [==============================] - 112s 137ms/step - loss: 0.2798 - accuracy: 0.9656 - val_loss: 0.2280 - val_accuracy: 0.9832\n",
      "Epoch 11/50\n",
      "816/816 [==============================] - 125s 154ms/step - loss: 0.2641 - accuracy: 0.9706 - val_loss: 0.2358 - val_accuracy: 0.9775\n",
      "Epoch 12/50\n",
      "816/816 [==============================] - 115s 141ms/step - loss: 0.2695 - accuracy: 0.9670 - val_loss: 0.2359 - val_accuracy: 0.9789\n",
      "Epoch 13/50\n",
      "816/816 [==============================] - 114s 140ms/step - loss: 0.2624 - accuracy: 0.9691 - val_loss: 0.2067 - val_accuracy: 0.9882\n",
      "Epoch 14/50\n",
      "816/816 [==============================] - 114s 140ms/step - loss: 0.2558 - accuracy: 0.9703 - val_loss: 0.2125 - val_accuracy: 0.9850\n",
      "Epoch 15/50\n",
      "816/816 [==============================] - 113s 139ms/step - loss: 0.2518 - accuracy: 0.9708 - val_loss: 0.2069 - val_accuracy: 0.9860\n",
      "Epoch 16/50\n",
      "816/816 [==============================] - 119s 146ms/step - loss: 0.2483 - accuracy: 0.9716 - val_loss: 0.2164 - val_accuracy: 0.9808\n",
      "Epoch 17/50\n",
      "816/816 [==============================] - 120s 147ms/step - loss: 0.2447 - accuracy: 0.9722 - val_loss: 0.2348 - val_accuracy: 0.9741\n",
      "Epoch 18/50\n",
      "816/816 [==============================] - 116s 142ms/step - loss: 0.2431 - accuracy: 0.9715 - val_loss: 0.1887 - val_accuracy: 0.9911\n",
      "Epoch 19/50\n",
      "816/816 [==============================] - 115s 141ms/step - loss: 0.2351 - accuracy: 0.9740 - val_loss: 0.1915 - val_accuracy: 0.9893\n",
      "Epoch 20/50\n",
      "816/816 [==============================] - 127s 156ms/step - loss: 0.2383 - accuracy: 0.9720 - val_loss: 0.2100 - val_accuracy: 0.9816\n",
      "Epoch 21/50\n",
      "816/816 [==============================] - 115s 141ms/step - loss: 0.2390 - accuracy: 0.9718 - val_loss: 0.2285 - val_accuracy: 0.9760\n",
      "Epoch 22/50\n",
      "816/816 [==============================] - 113s 139ms/step - loss: 0.2323 - accuracy: 0.9740 - val_loss: 0.1941 - val_accuracy: 0.9866\n",
      "Epoch 23/50\n",
      "816/816 [==============================] - 119s 145ms/step - loss: 0.2322 - accuracy: 0.9728 - val_loss: 0.1969 - val_accuracy: 0.9861\n"
     ]
    }
   ],
   "source": [
    "early_stopping = EarlyStopping(monitor='val_loss', patience=5, restore_best_weights=True)\n",
    "\n",
    "model.compile(optimizer=Nadam(learning_rate=0.001), loss='categorical_crossentropy', metrics=['accuracy'])\n",
    "history = model.fit(\n",
    "    train_generator,\n",
    "    batch_size = 64,\n",
    "    epochs= 50,\n",
    "    validation_data=(val_generator),\n",
    "    shuffle=True,\n",
    "    callbacks=[early_stopping]\n",
    ")"
   ]
  },
  {
   "cell_type": "code",
   "execution_count": 6,
   "metadata": {
    "tags": []
   },
   "outputs": [],
   "source": [
    "model.save('vgg_model.keras')"
   ]
  },
  {
   "cell_type": "code",
   "execution_count": 9,
   "metadata": {
    "tags": []
   },
   "outputs": [
    {
     "name": "stdout",
     "output_type": "stream",
     "text": [
      "545/545 [==============================] - 29s 54ms/step - loss: 0.1900 - accuracy: 0.9915\n",
      "Test Accuracy:  0.9915079474449158\n"
     ]
    }
   ],
   "source": [
    "print('Test Accuracy: ', model.evaluate(test_generator)[1])"
   ]
  }
 ],
 "metadata": {
  "kernelspec": {
   "display_name": "Tensorflow-2.7.0",
   "language": "python",
   "name": "tensorflow-2.7.0"
  },
  "language_info": {
   "codemirror_mode": {
    "name": "ipython",
    "version": 3
   },
   "file_extension": ".py",
   "mimetype": "text/x-python",
   "name": "python",
   "nbconvert_exporter": "python",
   "pygments_lexer": "ipython3",
   "version": "3.9.12"
  }
 },
 "nbformat": 4,
 "nbformat_minor": 4
}
